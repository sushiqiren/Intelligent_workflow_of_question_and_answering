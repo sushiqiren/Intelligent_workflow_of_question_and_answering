!pip install -q datasets
!huggingface-cli login

from google.colab import files
uploaded = files.upload()

from datasets import Dataset, DatasetDict, Features, Value, Sequence, Array2D
import datasets
import json

with open('dataset.json', 'r') as json_file:
    squad_data = json.load(json_file)
# Create an empty list to store the data

# Iterate through the JSON data to structure it as desired and define the function for dataset transform
def transform_conversation(article):
    data_list = []

    for paragraph in article['paragraphs']:

        for qa in paragraph["qas"]:
            question = qa["question"]
            answers = [answer["text"] for answer in qa["answers"]]
            answer = answers[0]
            data_list.append({'text': f'<s>[INST] {question} [/INST] {answer} </s>'})
    return data_list

# Apply the transformation to each article in the JSON data
transformed_data = [transform_conversation(article) for article in squad_data['data']]

# Flatten the list of dictionaries into a single list
flattened_data = [item for sublist in transformed_data for item in sublist]

# Define the schema for your dataset
features = Features({'text': Value('string')})

# Create a Dataset object from the flattened transformed data
transformed_dataset = Dataset.from_dict({'text': flattened_data}, features=features)

print(transformed_dataset)

transformed_dataset.push_to_hub("my-guanaco-llama2")
